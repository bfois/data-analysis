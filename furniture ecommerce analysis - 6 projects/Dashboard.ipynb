{
 "cells": [
  {
   "cell_type": "markdown",
   "id": "33cf319b-11dd-439e-a75c-36ede76fa2e1",
   "metadata": {},
   "source": [
    "## Proyecto 3: Panel de Rendimiento de Ventas"
   ]
  },
  {
   "cell_type": "markdown",
   "id": "03550c02-64ca-4133-a2d2-9d5cdf254d26",
   "metadata": {},
   "source": [
    "**Requerimientos:** \n",
    "1. Mostrar las ventas totales, las ganancias y la cantidad vendida del mes actual en comparación con el mes anterior.\n",
    "2. Presentar un desglose de las ventas por región y segmento de mercado.\n",
    "3. Crear indicadores clave de rendimiento (KPIs) para el valor promedio de pedido (AOV), el valor de vida del cliente (CLV) y el margen de ganancia.\n",
    "4. Rastrear el crecimiento o disminución de las ventas mes a mes y año tras año.\n",
    "5. Proporcionar un informe visual de las tendencias de ventas a lo largo del tiempo utilizando agregaciones basadas en fechas."
   ]
  },
  {
   "cell_type": "code",
   "execution_count": null,
   "id": "61263324-85df-4352-92ef-f1c32de83a36",
   "metadata": {},
   "outputs": [],
   "source": []
  }
 ],
 "metadata": {
  "kernelspec": {
   "display_name": "Python 3 (ipykernel)",
   "language": "python",
   "name": "python3"
  },
  "language_info": {
   "codemirror_mode": {
    "name": "ipython",
    "version": 3
   },
   "file_extension": ".py",
   "mimetype": "text/x-python",
   "name": "python",
   "nbconvert_exporter": "python",
   "pygments_lexer": "ipython3",
   "version": "3.12.4"
  }
 },
 "nbformat": 4,
 "nbformat_minor": 5
}
