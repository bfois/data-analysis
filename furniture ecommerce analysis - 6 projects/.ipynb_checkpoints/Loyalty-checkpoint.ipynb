{
 "cells": [
  {
   "cell_type": "markdown",
   "id": "af76693c-8723-4f92-808f-6cffc4ba18f0",
   "metadata": {},
   "source": [
    "## Proyecto 6: Análisis de Retención y Lealtad del Cliente\n",
    "--------------------"
   ]
  },
  {
   "cell_type": "markdown",
   "id": "664f05de-90aa-4134-a26d-09b8065f6928",
   "metadata": {},
   "source": [
    "**Requerimientos:**\n",
    "1. Calcular la tasa de retención analizando a los clientes que realizaron compras repetidas en años consecutivos.\n",
    "2. Identificar a los clientes que no han realizado una compra en más de 12 meses y crear una lista para una campaña de marketing de reenganche.\n",
    "3. Crear una métrica de valor del tiempo de vida del cliente (CLV) que calcule el beneficio total de cada cliente a lo largo del tiempo.\n",
    "4. Determinar qué segmentos de clientes (segmentos de mercado, regiones) tienen las tasas de retención más altas y más bajas.\n",
    "5. Rastrear los patrones de compra de los clientes e identificar posibles riesgos de pérdida basados en la inactividad o la reducción de la frecuencia de compra."
   ]
  },
  {
   "cell_type": "markdown",
   "id": "acf23255-6776-4add-ad05-5d0fb999b09f",
   "metadata": {},
   "source": [
    "## 1. Calcular la tasa de retención analizando a los clientes que realizaron compras repetidas en años consecutivos."
   ]
  },
  {
   "cell_type": "code",
   "execution_count": 3,
   "id": "0d935cc4-8dfd-4b5b-87e1-fe14e2e9ab35",
   "metadata": {},
   "outputs": [
    {
     "name": "stdout",
     "output_type": "stream",
     "text": [
      "la tasa de retención de los clientes que realizaron compras repetidas en años consecutivos es 64.36%.\n"
     ]
    }
   ],
   "source": [
    "import pandas as pd\n",
    "\n",
    "# Cargar el archivo Excel\n",
    "df = pd.read_excel('./furniture (1).xlsx')\n",
    "\n",
    "# Convertir la columna 'order_date' al formato datetime\n",
    "df['order_date'] = pd.to_datetime(df['order_date'])\n",
    "\n",
    "# Extraer el año de la columna 'order_date' y crear una nueva columna 'purchase_year'\n",
    "df['purchase_year'] = df['order_date'].dt.year\n",
    "\n",
    "# Agrupar por 'customer_id' y contar 'purchase_year' únicos\n",
    "customer_years = df.groupby('customer_id')['purchase_year'].nunique()\n",
    "\n",
    "# Contar clientes que hicieron compras en más de un año\n",
    "repeat_customers = customer_years[customer_years > 1].count()\n",
    "\n",
    "# Calcular el número total de clientes únicos\n",
    "total_customers = df['customer_id'].nunique()\n",
    "\n",
    "# Calcular la tasa de retención\n",
    "retention_rate = (repeat_customers / total_customers) * 100\n",
    "\n",
    "print(f\"la tasa de retención de los clientes que realizaron compras repetidas en años consecutivos es {retention_rate:.2f}%.\")"
   ]
  },
  {
   "cell_type": "markdown",
   "id": "592362ba-aa79-4259-b94d-4c2570baea89",
   "metadata": {},
   "source": [
    "## 2. Identificar a los clientes que no han realizado una compra en más de 12 meses y crear una lista para una campaña de marketing de reenganche."
   ]
  },
  {
   "cell_type": "code",
   "execution_count": 12,
   "id": "20f3a554-716c-41ee-8379-57f3e7d6bae7",
   "metadata": {},
   "outputs": [
    {
     "name": "stdout",
     "output_type": "stream",
     "text": [
      "Lista de clientes para lanzar una campaña de reenganche: {'KL-16645', 'KD-16495', 'AH-10195', 'PS-19045', 'EK-13795', 'FC-14335', 'DF-13135', 'AC-10420', 'CG-12520', 'PM-18940', 'RB-19435', 'GM-14680', 'GT-14755', 'ND-18370', 'FP-14320', 'RW-19630', 'NM-18520', 'BF-10975', 'AH-10120', 'JK-15370', 'CV-12295', 'JE-15475', 'RD-19660', 'LD-17005', 'LA-16780', 'CL-12700', 'AA-10645', 'MC-17275', 'PO-19180', 'CA-12310', 'TR-21325', 'NP-18685', 'BE-11455', 'JL-15850', 'DM-12955', 'GK-14620', 'EA-14035', 'CA-11965', 'KT-16465', 'CS-12250', 'EH-13945', 'TA-21385', 'CC-12100', 'TN-21040', 'AB-10015', 'FH-14365', 'MS-17530', 'DO-13435', 'MY-18295', 'MF-18250', 'MS-17830', 'RC-19825', 'RB-19330', 'EL-13735', 'SR-20740', 'ND-18460', 'KD-16270', 'RM-19675', 'DL-12925', 'GW-14605', 'RB-19570', 'JM-15865', 'HG-14965', 'KD-16615', 'LS-17200', 'LS-17230', 'MC-18130', 'SP-20545', 'TS-21160', 'TB-21280', 'LL-16840', 'QJ-19255', 'RB-19645', 'YC-21895', 'JH-16180', 'AS-10135', 'RD-19585', 'AZ-10750', 'TT-21220', 'SC-20260', 'BK-11260', 'MS-17365', 'GT-14635', 'AG-10675', 'Co-12640', 'RB-19360', 'JB-15925', 'LW-17125', 'NC-18625', 'SC-20440', 'CM-12235', 'DP-13165', 'MC-17425', 'TH-21100', 'DE-13255', 'RF-19840', 'JD-15895', 'SM-20005', 'BS-11665', 'AW-10930', 'PF-19120', 'TS-21430', 'DP-13390', 'GH-14485', 'CY-12745', 'GB-14575', 'JO-15280', 'JD-15790', 'NW-18400', 'BW-11200', 'SS-20875', 'RH-19495', 'NF-18595', 'TB-21055', 'LW-16825', 'ZD-21925', 'TB-21520', 'DW-13480', 'DG-13300', 'KM-16720', 'BF-11275', 'ON-18715', 'GR-14560', 'JH-15985', 'KB-16315', 'SE-20110', 'SC-20230', 'CM-12160', 'EM-13810', 'CB-12535', 'VB-21745', 'SG-20080', 'CP-12340', 'SS-20515', 'SP-20650', 'CM-11935', 'PC-18745', 'EJ-14155', 'AF-10885', 'MH-17440', 'TC-21535', 'CD-12790', 'AR-10345', 'RD-19900', 'CA-12055', 'NP-18325', 'GH-14425', 'MM-17920', 'TP-21565', 'BH-11710', 'LR-16915', 'BT-11485', 'SS-20410', 'MH-17620', 'AH-10465', 'SV-20785', 'TG-21310', 'CM-12715', 'EH-13990', 'JP-16135', 'BF-11215', 'VD-21670', 'SV-20815', 'FC-14245', 'SF-20965', 'AS-10285', 'AA-10315', 'RE-19450', 'BF-11005', 'DB-13120', 'MG-17875', 'SC-20695', 'DJ-13420', 'BT-11440', 'LM-17065', 'MZ-17515', 'RH-19510', 'AA-10375', 'MW-18220', 'AR-10570', 'DH-13675', 'AB-10255', 'JS-15880', 'PP-18955', 'ER-13855', 'JH-15820', 'JS-15685', 'AO-10810', 'MT-17815', 'SC-20095', 'SM-20905', 'SG-20605', 'TB-21250', 'CS-12490', 'CM-12445', 'BG-11035', 'DB-13360', 'DK-13090', 'FO-14305', 'DB-12970', 'MA-17560', 'BM-11140', 'SB-20290', 'AH-10030', 'NP-18700', 'BW-11065', 'AS-10630', 'BD-11635', 'JG-15115', 'SC-20575', 'JF-15490', 'IM-15070', 'PO-19195', 'JD-16060', 'KW-16570', 'MF-17665', 'KM-16660', 'SJ-20500', 'JR-15670', 'EN-13780', 'SP-20860', 'DR-12940', 'PW-19240', 'CS-12130', 'CR-12730', 'CC-12145', 'MR-17545', 'ME-18010', 'PC-19000', 'SC-20020', 'SH-20635', 'JS-15940', 'KD-16345', 'AA-10480', 'SC-20680', 'ES-14080', 'RH-19600', 'AG-10525', 'MH-17785', 'LR-17035', 'HL-15040', 'CC-12610', 'RP-19270', 'CK-12205', 'DL-12865', 'CB-12415', 'MS-17770', 'VW-21775', 'SN-20560', 'IM-15055', 'MV-18190', 'EB-14170', 'NB-18580', 'LH-17155', 'CR-12625', 'CK-12595', 'GZ-14470', 'AH-10690', 'RF-19345', 'DM-13525', 'XP-21865', 'HA-14920', 'AG-10300', 'EB-14110', 'VT-21700', 'KB-16585', 'PG-18895', 'LW-17215', 'RM-19375', 'JS-15595', 'DM-13015', 'MS-17710', 'RK-19300', 'SW-20755', 'PM-19135', 'LT-17110', 'LH-16900', 'RD-19720', 'KM-16225', 'ST-20530', 'AC-10660', 'RP-19390', 'RR-19525', 'FA-14230', 'BS-11365', 'LC-16960', 'NM-18445', 'TZ-21580', 'FM-14380', 'MK-17905', 'HF-14995', 'HJ-14875', 'DW-13540', 'BM-11785', 'MP-17470', 'DP-13105', 'AG-10495', 'SH-20395', 'AJ-10945', 'DK-13225', 'NS-18640', 'MC-17590', 'DB-13210'}\n",
      "En total la campaña debe ser lanzada para: 303 clientes\n"
     ]
    }
   ],
   "source": [
    "from datetime import timedelta\n",
    "\n",
    "# Obtener la lista de clientes totales\n",
    "all_customers = set(df['customer_id'].unique())\n",
    "\n",
    "# Encontrar la fecha mas reciente del dataframe\n",
    "latest_date = df['order_date'].max()\n",
    "\n",
    "# Calcular la fecha hace 12 meses\n",
    "date_12_months_ago = latest_date - timedelta(days=365)\n",
    "\n",
    "# Filtrar el DataFrame para incluir solo las compras realizadas hace menos de 12 meses\n",
    "df_recent_purchases = df[df['order_date'] >= date_12_months_ago]\n",
    "\n",
    "# Obtener una lista de clientes que han realizado una compra hace menos de 12 meses\n",
    "recent_customers = df_recent_purchases['customer_id'].unique()\n",
    "recent_customers_set = set(recent_customers)\n",
    "\n",
    "#Lista de clientes para la campaña de marketing\n",
    "customers_to_reengage = all_customers - recent_customers_set\n",
    "\n",
    "# Imprimir la lista de clientes a reactivar\n",
    "print(f\"Lista de clientes para lanzar una campaña de reenganche: {customers_to_reengage}\")\n",
    "print(f\"En total la campaña debe ser lanzada para: {len(customers_to_reengage)} clientes\")"
   ]
  },
  {
   "cell_type": "markdown",
   "id": "e4bc6573-338e-473b-b883-8ae20b478a4f",
   "metadata": {},
   "source": [
    "## 3. Crear una métrica de valor del tiempo de vida del cliente (CLV) que calcule el beneficio total de cada cliente a lo largo del tiempo."
   ]
  },
  {
   "cell_type": "code",
   "execution_count": 5,
   "id": "e5923c8b-fff3-4c0f-a7cd-ce0b3b3523b2",
   "metadata": {},
   "outputs": [
    {
     "name": "stdout",
     "output_type": "stream",
     "text": [
      "La duración promedio de la relación con el cliente es de 1.37 años.\n",
      "El beneficio promedio por cliente es de 26.10.\n",
      "El Valor del Tiempo de Vida del Cliente (CLV) es de 35.67.\n"
     ]
    }
   ],
   "source": [
    "# Calcular la fecha de la primera y última compra para cada cliente\n",
    "first_purchase = df.groupby('customer_id')['order_date'].min()\n",
    "last_purchase = df.groupby('customer_id')['order_date'].max()\n",
    "\n",
    "# Calcular la duración de la relación con el cliente en años\n",
    "duration = (last_purchase - first_purchase).dt.days / 365\n",
    "\n",
    "# Calcular la duración promedio\n",
    "average_duration = duration.mean()\n",
    "print(f\"La duración promedio de la relación con el cliente es de {average_duration:.2f} años.\")\n",
    "\n",
    "# Calcular el beneficio total\n",
    "total_profit = df['profit'].sum()\n",
    "\n",
    "# Calcular el número de clientes\n",
    "num_customers = df['customer_id'].nunique()\n",
    "\n",
    "# Calcular el beneficio promedio\n",
    "average_profit = total_profit / num_customers\n",
    "print(f\"El beneficio promedio por cliente es de {average_profit:.2f}.\")\n",
    "\n",
    "# Calcular el CLV (Valor del Tiempo de Vida del Cliente)\n",
    "clv = average_duration * average_profit\n",
    "print(f\"El Valor del Tiempo de Vida del Cliente (CLV) es de {clv:.2f}.\")"
   ]
  },
  {
   "cell_type": "markdown",
   "id": "24398af0-1b9d-4d4d-8a0a-56e8062edc7d",
   "metadata": {},
   "source": [
    "## 4. Determinar qué segmentos de clientes (segmentos de mercado, regiones) tienen las tasas de retención más altas y más bajas."
   ]
  },
  {
   "cell_type": "code",
   "execution_count": 8,
   "id": "b5d717fe-96c3-47fb-acef-7341dd7631d1",
   "metadata": {},
   "outputs": [
    {
     "name": "stdout",
     "output_type": "stream",
     "text": [
      "El segmento de mayor retención es: Corporate,y el segmento de menor retención es: Home Office\n",
      "La región de mayor retención es: West,y la región de menor retención es: South\n"
     ]
    }
   ],
   "source": [
    "# Calcular el número de compras para cada cliente\n",
    "customer_purchases = df.groupby('customer_id').size()\n",
    "\n",
    "# Agregar esta información a los datos originales\n",
    "data_with_purchases = df.merge(customer_purchases.rename('purchases'), left_on='customer_id', right_index=True)\n",
    "\n",
    "# Agrupar los datos por segmento de mercado y calcular el número de clientes y el número de clientes que hicieron más de una compra\n",
    "segment_data = data_with_purchases.groupby('market_segment').agg({'customer_id': 'nunique', 'purchases': lambda x: (x > 1).sum()})\n",
    "\n",
    "# Calcular la tasa de retención para cada segmento de mercado\n",
    "segment_data['retention_rate'] = segment_data['purchases']/segment_data['customer_id']\n",
    "\n",
    "# Encontrar el segmento de mercado con las tasas de retención más altas y más bajas\n",
    "highest_retention_segment = segment_data['retention_rate'].idxmax()\n",
    "lowest_retention_segment = segment_data['retention_rate'].idxmin()\n",
    "\n",
    "print(f\"El segmento de mayor retención es: {highest_retention_segment},y el segmento de menor retención es: {lowest_retention_segment}\")\n",
    "\n",
    "# Agrupar los datos por región y calcular el número de clientes y el número de clientes que hicieron más de una compra\n",
    "region_data = data_with_purchases.groupby('region').agg({'customer_id': 'nunique', 'purchases': lambda x: (x > 1).sum()})\n",
    "\n",
    "# Calcular la tasa de retención para cada región\n",
    "region_data['retention_rate'] = region_data['purchases']/region_data['customer_id']\n",
    "\n",
    "# Encontrar la región con las tasas de retención más altas y más bajas\n",
    "highest_retention_region = region_data['retention_rate'].idxmax()\n",
    "lowest_retention_region = region_data['retention_rate'].idxmin()\n",
    "\n",
    "print(f\"La región de mayor retención es: {highest_retention_region},y la región de menor retención es: {lowest_retention_region}\")"
   ]
  },
  {
   "cell_type": "markdown",
   "id": "e0412cd7-4f31-4f07-8010-6b59f66d1c0a",
   "metadata": {},
   "source": [
    "## Rastrear los patrones de compra de los clientes e identificar posibles riesgos de pérdida basados en la inactividad o la reducción de la frecuencia de compra."
   ]
  },
  {
   "cell_type": "code",
   "execution_count": 9,
   "id": "3bc09ea1-57d1-4931-a78a-54b233382b7e",
   "metadata": {},
   "outputs": [
    {
     "name": "stdout",
     "output_type": "stream",
     "text": [
      "Posibles riesgos de pérdida debido a la inactividad:\n",
      "customer_id\n",
      "AA-10315    1\n",
      "AA-10375    1\n",
      "AB-10150    1\n",
      "AB-10255    1\n",
      "AC-10420    1\n",
      "           ..\n",
      "TB-21175    1\n",
      "TB-21280    1\n",
      "TT-21220    1\n",
      "VB-21745    1\n",
      "YC-21895    1\n",
      "Length: 160, dtype: int64\n",
      "\n",
      "Posibles riesgos de pérdida debido a la frecuencia de compra reducida:\n",
      "customer_id\n",
      "AA-10315    1\n",
      "AA-10375    1\n",
      "AA-10480    2\n",
      "AB-10015    2\n",
      "AB-10150    1\n",
      "           ..\n",
      "TZ-21580    2\n",
      "VB-21745    1\n",
      "VF-21715    2\n",
      "YC-21895    1\n",
      "ZD-21925    2\n",
      "Length: 335, dtype: int64\n"
     ]
    }
   ],
   "source": [
    "# Calcular el número de compras para cada cliente\n",
    "customer_purchases = df.groupby('customer_id').size()\n",
    "\n",
    "# Identificar clientes con solo una compra (potencial inactividad)\n",
    "inactive_customers = customer_purchases[customer_purchases == 1]\n",
    "\n",
    "# Calcular el número promedio de compras\n",
    "average_purchases = customer_purchases.mean()\n",
    "\n",
    "# Identificar clientes con compras menos que el promedio (frecuencia de compra reducida)\n",
    "reduced_frequency_customers = customer_purchases[customer_purchases < average_purchases]\n",
    "\n",
    "# Imprimir posibles riesgos de pérdida\n",
    "print(\"Posibles riesgos de pérdida debido a la inactividad:\")\n",
    "print(inactive_customers)\n",
    "\n",
    "print(\"\\nPosibles riesgos de pérdida debido a la frecuencia de compra reducida:\")\n",
    "print(reduced_frequency_customers)"
   ]
  },
  {
   "cell_type": "markdown",
   "id": "088fa6e9-8533-4384-ab93-76965029930a",
   "metadata": {},
   "source": [
    "## Conclusiones e insights:\n",
    "\n",
    "1. La tasa de retención de clientes para aquellos que realizaron compras repetidas en años consecutivos es bastante alta, con un 64.36%. **Esto sugiere que una porción significativa de los clientes son leales y continúan realizando compras año tras año.** \n",
    "\n",
    "2. **Hay 303 clientes que no han realizado una compra en más de 12 meses.** Estos clientes son posibles objetivos para una campaña de marketing de reenganche.\n",
    "\n",
    "3. **El Valor del Tiempo de Vida del Cliente (CLV) es de 35.67.** Esta métrica representa el beneficio total que cada cliente aporta a lo largo de su vida. Es una cifra crucial que puede ayudar a la empresa a decidir cuánto deberían gastar en adquirir nuevos clientes y retener a los existentes.\n",
    "\n",
    "4. El* **segmento 'Corporate'** tiene la **tasa de retención más alta**, mientras que el **segmento 'Home Office'** tiene **la más baja**. Esta información puede guiar los esfuerzos de marketing y servicio al cliente de la empresa. Podrían querer investigar por qué el segmento 'Home Office' tiene una tasa de retención más baja y tomar medidas para mejorarla.\n",
    "La **región 'West'** tiene la **tasa de retención más alta**, y la **región 'South'** tiene **la más baja**. Esta información geográfica puede ser útil para adaptar las campañas de marketing y los servicios a diferentes regiones.\n",
    "\n",
    "5. Existen posibles riesgos de pérdida debido a la inactividad del cliente. **160 clientes han realizado solo una compra**, lo que indica una posible inactividad. Estos clientes podrían necesitar atención especial o marketing dirigido para animarles a realizar más compras."
   ]
  },
  {
   "cell_type": "code",
   "execution_count": null,
   "id": "da32fac4-ea1f-415a-b262-f076ba20691e",
   "metadata": {},
   "outputs": [],
   "source": []
  }
 ],
 "metadata": {
  "kernelspec": {
   "display_name": "Python 3 (ipykernel)",
   "language": "python",
   "name": "python3"
  },
  "language_info": {
   "codemirror_mode": {
    "name": "ipython",
    "version": 3
   },
   "file_extension": ".py",
   "mimetype": "text/x-python",
   "name": "python",
   "nbconvert_exporter": "python",
   "pygments_lexer": "ipython3",
   "version": "3.12.4"
  }
 },
 "nbformat": 4,
 "nbformat_minor": 5
}
